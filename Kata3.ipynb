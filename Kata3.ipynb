{
 "cells": [
  {
   "cell_type": "markdown",
   "metadata": {},
   "source": [
    "# Ejercicio 1 \n",
    "Escribir una lógica condicional que imprima una advertencia si un asteroide se acerca a la Tierra demasiado rápido. La velocidad del asteroide varía dependiendo de lo cerca que esté del sol, y cualquier velocidad superior a 25 kilómetros por segundo (km/s) merece una advertencia.\n",
    "\n",
    "Un asteroide se acerca, y viaja a una velocidad de 49 km/s."
   ]
  },
  {
   "cell_type": "code",
   "execution_count": 14,
   "metadata": {},
   "outputs": [
    {
     "name": "stdout",
     "output_type": "stream",
     "text": [
      "ATENCIÓN, UN ASTEROIDE SE DIRIGE A LA TIERRA A UNA ALTA VELOCIDAD\n"
     ]
    }
   ],
   "source": [
    "#Declarando velocidad de asteroide, anteriormente mencionada\n",
    "velocidad_asteroide = 49\n",
    "#Comparación entre la velocidad del asteroide y al velocidad máxima para ser considerada alerta \n",
    "if velocidad_asteroide > 25:\n",
    "    print(\"ATENCIÓN, UN ASTEROIDE SE DIRIGE A LA TIERRA A UNA ALTA VELOCIDAD\") \n",
    "else:\n",
    "    print(\"\")\n"
   ]
  },
  {
   "cell_type": "markdown",
   "metadata": {},
   "source": [
    "# Ejercicio 2\n",
    "Si un asteroide entra en la atmósfera de la Tierra a una velocidad mayor o igual a 20 km/s, a veces produce un rayo de luz que se puede ver desde la Tierra. Escribe la lógica condicional que usa declaraciones if, else, y elif para alertar a las personas de todo el mundo que deben buscar un asteroide en el cielo. ¡Hay uno que se dirige a la tierra ahora a una velocidad de 19 km/s!"
   ]
  },
  {
   "cell_type": "code",
   "execution_count": 15,
   "metadata": {},
   "outputs": [
    {
     "name": "stdout",
     "output_type": "stream",
     "text": [
      "Atención, un asteroide ha pasado cerca de la tierra, pero... ¡Todo está bien!\n"
     ]
    }
   ],
   "source": [
    "#Declarando variabale que almacena la velocidad del asteroide\n",
    "velocidad_asteroide = 19\n",
    "if velocidad_asteroide > 20:\n",
    "    print(\"¡Atención! Un asteroide ha entrado a la atmósfera y se puede observar un rayo der luz!\")\n",
    "elif velocidad_asteroide == 20:\n",
    "    print(\"¡Atención! ¡ Un asteroide ha entrado a la atmósfera y se puede observar un rayo der luz!\")\n",
    "else:\n",
    "    print(\"Atención, un asteroide ha pasado cerca de la tierra, pero... ¡Todo está bien!\")"
   ]
  },
  {
   "cell_type": "markdown",
   "metadata": {},
   "source": [
    "# Ejercicio 3\n",
    "*Los asteroides de menos de 25 metros en su dimensión más grande probablemente se quemarán a medida que entren en la atmósfera de la Tierra.\n",
    "\n",
    "*Si una pieza de un asteroide que es más grande que 25 metros pero más pequeña que 1000 metros golpeara la Tierra, causaría mucho daño.\n",
    "\n",
    "*La velocidad del asteroide varía en función de lo cerca que esté del sol, y cualquier velocidad superior a 25 kilómetros por segundo (km/s) merece una advertencia.\n",
    "\n",
    "*Si un asteroide entra en la atmósfera de la Tierra a una velocidad mayor o igual a 20 km/s, a veces produce un rayo de luz que se puede ver desde la Tierra.\n"
   ]
  },
  {
   "cell_type": "code",
   "execution_count": 1,
   "metadata": {},
   "outputs": [
    {
     "name": "stdout",
     "output_type": "stream",
     "text": [
      "Dimensión del asteroide:  25  metros\n",
      "Velocidad del asteroide:  17  Km/s\n",
      "El asteroide se ha quemado antes de entrar a la atmmósfera... ¡Todo está bien!\n"
     ]
    }
   ],
   "source": [
    "# Se crean variables aleatorias para la dimensión del asteroided y su velocidad\n",
    "import random \n",
    "dimension_asteroide = random.randint(1,50)\n",
    "velocidad_asteroide = random.randint(1,50)\n",
    "\n",
    "print(\"Dimensión del asteroide: \", dimension_asteroide, \" metros\")\n",
    "print(\"Velocidad del asteroide: \", velocidad_asteroide, \" Km/s\")\n",
    "\n",
    "if dimension_asteroide > 25 and dimension_asteroide < 1000:\n",
    "    print(\"El asteroide tiene una dimensión de: \", dimension_asteroide, \"m\", \" y causará mucho daño\")\n",
    "elif velocidad_asteroide > 25 or velocidad_asteroide >= 20:\n",
    "    print(\"¡ATENCIÓN! UN ASTEROIDE SE DIRIGE A LA TIERRA A UNA ALTA VELOCIDAD DE:  \", velocidad_asteroide, \"Km/s ¡Y puede observarse un rayo de luz!\")\n",
    "else:\n",
    "    print(\"El asteroide se ha quemado antes de entrar a la atmmósfera... ¡Todo está bien!\")"
   ]
  },
  {
   "cell_type": "markdown",
   "metadata": {},
   "source": []
  },
  {
   "cell_type": "markdown",
   "metadata": {},
   "source": []
  }
 ],
 "metadata": {
  "interpreter": {
   "hash": "dec912fbc4a59e5b096ec5d71de4d8d32afcf371b8f24102337dc7b39d858b58"
  },
  "kernelspec": {
   "display_name": "Python 3.9.10 64-bit (windows store)",
   "language": "python",
   "name": "python3"
  },
  "language_info": {
   "codemirror_mode": {
    "name": "ipython",
    "version": 3
   },
   "file_extension": ".py",
   "mimetype": "text/x-python",
   "name": "python",
   "nbconvert_exporter": "python",
   "pygments_lexer": "ipython3",
   "version": "3.9.10"
  },
  "orig_nbformat": 4
 },
 "nbformat": 4,
 "nbformat_minor": 2
}
