{
 "cells": [
  {
   "cell_type": "markdown",
   "metadata": {},
   "source": [
    "# Ejercicio 1 \n",
    "* Hay varias operaciones que puedes realizar en las cadenas cuando las manipulamos. En este ejercicio, usarás métodos de cadena para modificar el texto con hechos sobre la Luna y luego extraerás información para crear un breve resumen.\n",
    "\n"
   ]
  },
  {
   "cell_type": "code",
   "execution_count": 69,
   "metadata": {},
   "outputs": [
    {
     "name": "stdout",
     "output_type": "stream",
     "text": [
      "\n",
      "On average, the Moon moves 4cm away from the Earth every year\n",
      " The highest daylight temperature of the Moon is 127 Celsius\n"
     ]
    }
   ],
   "source": [
    "# Definimos el texto de ejemplo \n",
    "text = \"\"\"Interesting facts about the Moon. The Moon is Earth's only satellite. There are several interesting facts about the Moon and how it affects life here on Earth.\n",
    "On average, the Moon moves 4cm away from the Earth every year. This yearly drift is not significant enough to cause immediate effects on Earth. The highest daylight temperature of the Moon is 127 C.\"\"\"\n",
    "# Separamos el texto de manera que pueda ser manipulador oración por oración, en este caso, un punto\n",
    "text_split = text.split('.')\n",
    "# creamos las variables que contienen las palabras clave \n",
    "key_word = [\"average\", \"temperature\", \"distance\"]\n",
    "# Creamos el for que ayude a recorrer el texto separado\n",
    "for key_word_text in text_split:\n",
    "    for key_word_founded in key_word: #Obtenemos la palabra clave para lograr compararla con las separaciones del texto\n",
    "        if key_word_founded in key_word_text:\n",
    "            print(key_word_text.replace('C', 'Celsius')) #\n",
    "\n",
    "\n",
    "\n"
   ]
  },
  {
   "cell_type": "markdown",
   "metadata": {},
   "source": [
    "# Ejercicio 2 Formateando cadenas \n",
    "* Saber cómo dar formato a las cadenas es esencial cuando se presenta información de un programa. Hay algunas maneras diferentes de lograr esto en Python. En este ejercicio, se utilizan variables que contienen datos clave sobre la gravedad en varias lunas y luego se utilizan para dar formato e imprimir la información.\n",
    "\n",
    "El formato tiene que acomodar información sobre otras lunas, por lo que debe ser genérico.\n",
    "\n",
    "En lugar de reemplazar las variables en una cadena larga como parte de un párrafo, utiliza la información para presentarla en un formato tabular. El resultado debería verse así:   "
   ]
  },
  {
   "cell_type": "markdown",
   "metadata": {},
   "source": []
  },
  {
   "cell_type": "code",
   "execution_count": 26,
   "metadata": {},
   "outputs": [
    {
     "name": "stdout",
     "output_type": "stream",
     "text": [
      "Gravity Facts About The: Paola\n",
      " ------------------------ \n",
      " Planet Name: Saul\n",
      " Gravity On Ganymede: 4.56 M/S \n"
     ]
    }
   ],
   "source": [
    "#Creamos el título mediante una variable\n",
    "#Cada dato podrá ser ingresado por el usuario \n",
    "name = input(\"Ingresa el nombre: \") \n",
    "planet_gravity = float(input(\"Ingresa el valor de la gravedad: \"))\n",
    "planet_gravity = planet_gravity * 1000\n",
    "planet = input(\"Ingresa el nombre del planeta: \")\n",
    "#imprimimos el mensaje con los datos correspondientes según hayan sido entregados\n",
    "print((f\"gravity facts about the: {name}\\n ------------------------ \\n planet name: {planet}\\n gravity on ganymede: {round(planet_gravity,5)} m/s \"\"\").title())\n",
    "\n",
    "\n",
    "\n"
   ]
  }
 ],
 "metadata": {
  "interpreter": {
   "hash": "dec912fbc4a59e5b096ec5d71de4d8d32afcf371b8f24102337dc7b39d858b58"
  },
  "kernelspec": {
   "display_name": "Python 3.9.10 64-bit (windows store)",
   "language": "python",
   "name": "python3"
  },
  "language_info": {
   "codemirror_mode": {
    "name": "ipython",
    "version": 3
   },
   "file_extension": ".py",
   "mimetype": "text/x-python",
   "name": "python",
   "nbconvert_exporter": "python",
   "pygments_lexer": "ipython3",
   "version": "3.9.10"
  },
  "orig_nbformat": 4
 },
 "nbformat": 4,
 "nbformat_minor": 2
}
