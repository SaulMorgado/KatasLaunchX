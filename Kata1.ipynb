{
 "cells": [
  {
   "cell_type": "markdown",
   "metadata": {},
   "source": [
    "# Mi primer Programa\n",
    "Creando programa que permita verificar le fecha del día actual\n"
   ]
  },
  {
   "cell_type": "code",
   "execution_count": 15,
   "metadata": {},
   "outputs": [
    {
     "name": "stdout",
     "output_type": "stream",
     "text": [
      "Bienvenido, Oficial, la fecha del día de hoy es: 2022-02-10\n"
     ]
    }
   ],
   "source": [
    "#importamos la biblioteca para hacer uso del date \n",
    "from datetime import date \n",
    "#definimos la fecha para el día de hoy\n",
    "date.today()\n",
    "#impresión del día actual con un mensaje de bienvenida\n",
    "print(\"Bienvenido, Oficial, la fecha del día de hoy es: \" + str(date.today()))"
   ]
  },
  {
   "cell_type": "markdown",
   "metadata": {},
   "source": [
    "# Convertidor de unidades\n",
    "Programa que permite la conversión se parsecs a años luz de cualquier valor de parsec"
   ]
  },
  {
   "cell_type": "code",
   "execution_count": 27,
   "metadata": {},
   "outputs": [
    {
     "name": "stdout",
     "output_type": "stream",
     "text": [
      "Bienvenido, Oficial\n",
      "El valor de  11  parsecs, son:  35.877159999999996 años luz\n"
     ]
    }
   ],
   "source": [
    "print(\"Bienvenido, Oficial\")\n",
    "#Declaramos la variables de parsecs y años luz\n",
    "light_years = 3.26156  \n",
    "parsecs  = input(\"Ingresa el valor de parsecs: \")\n",
    "print(\"El valor de \", int(parsecs), \" parsecs, son: \", int(parsecs) * (light_years), \"años luz\" )  "
   ]
  },
  {
   "cell_type": "markdown",
   "metadata": {},
   "source": []
  },
  {
   "cell_type": "markdown",
   "metadata": {},
   "source": []
  }
 ],
 "metadata": {
  "interpreter": {
   "hash": "dec912fbc4a59e5b096ec5d71de4d8d32afcf371b8f24102337dc7b39d858b58"
  },
  "kernelspec": {
   "display_name": "Python 3.9.10 64-bit (windows store)",
   "language": "python",
   "name": "python3"
  },
  "language_info": {
   "codemirror_mode": {
    "name": "ipython",
    "version": 3
   },
   "file_extension": ".py",
   "mimetype": "text/x-python",
   "name": "python",
   "nbconvert_exporter": "python",
   "pygments_lexer": "ipython3",
   "version": "3.9.10"
  },
  "orig_nbformat": 4
 },
 "nbformat": 4,
 "nbformat_minor": 2
}
