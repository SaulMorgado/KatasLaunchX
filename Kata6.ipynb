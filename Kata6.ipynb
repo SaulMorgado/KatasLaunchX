{
 "cells": [
  {
   "cell_type": "markdown",
   "metadata": {},
   "source": [
    "# Ejercicio 1\n",
    "* Las listas permiten almacenar varios valores en una sola variable. Comenzarás un proyecto sobre información planetaria creando una lista de planetas.\n",
    "\n"
   ]
  },
  {
   "cell_type": "code",
   "execution_count": 2,
   "metadata": {},
   "outputs": [
    {
     "name": "stdout",
     "output_type": "stream",
     "text": [
      "Lista de planetas: ['Mercurio', 'Venus', 'Tierra', 'Marte', 'Jupiter', 'Saturno', 'Urano', 'Neptuno', 'Pluton']\n",
      " Número total de planetas: 9\n",
      " Último planeta agreado: Pluton\n"
     ]
    }
   ],
   "source": [
    "# Creando la lista con los nombres de ocho planetas asignados a una variable\n",
    "\n",
    "planets = ['Mercurio', 'Venus', 'Tierra', 'Marte', 'Jupiter', 'Saturno', 'Urano', 'Neptuno']\n",
    "planets.append('Pluton')\n",
    "number_of_planets = len(planets)\n",
    "\n",
    "print(f\"Lista de planetas: {planets}\\n Número total de planetas: {number_of_planets}\\n Último planeta agreado: {planets[-1]}\")"
   ]
  },
  {
   "cell_type": "markdown",
   "metadata": {},
   "source": [
    "# Ejercicio 2: Trabajando con datos de una lista\n",
    "* Usar slices para recuperar partes de una lista\n",
    "* Es posible que debas trabajar con diferentes secciones de una lista. En nuestro ejemplo, queremos mostrar planetas más cerca y más lejos del sol de un planeta que el usuario ingresa por teclado.\n",
    "\n"
   ]
  },
  {
   "cell_type": "markdown",
   "metadata": {},
   "source": [
    "#"
   ]
  },
  {
   "cell_type": "code",
   "execution_count": 82,
   "metadata": {},
   "outputs": [
    {
     "name": "stdout",
     "output_type": "stream",
     "text": [
      "Tu planeta: Mars, es de los más lejanos al Sol : ( \n",
      " Aquí puedes ver la lista de los más lejanos: ['Mars', 'Jupiter', 'Saturn', 'Neptune']\n"
     ]
    }
   ],
   "source": [
    "# Realizamos una lista con todos los planetas disponibles\n",
    "planets = ['Mercury', 'Venus', 'Earth', 'Mars', 'Jupiter', 'Saturn', 'Neptune']\n",
    "search_planet = input(\"Por favor, ingresa el nombre de un planeta comenzando la primer letra con mayúscula\")\n",
    "planet_index = planets.index(search_planet)\n",
    "\n",
    "#determinamos los planetas más cercanos al sol: \n",
    "planets_closer_sun = planets[0:3]\n",
    "planets_further_sun = planets [3:7]\n",
    "\n",
    "#determinamos los planetas más cercanos y comparamos para saber si está el planeta ingresado\n",
    "for closer_planets in planets_closer_sun:\n",
    "    if search_planet in closer_planets:\n",
    "        print(f\" Tu planeta: {search_planet}, es de los más cercanos al Sol  : )\\n Aquí puedes ver la lista de los más cercanos: {planets_closer_sun}\")\n",
    "    \n",
    "\n",
    "#En caso de no estar disponible, arroja esta otra lista con los más lejanos \n",
    "for further_planets in planets_further_sun:\n",
    "    if search_planet in further_planets:\n",
    "        print(f\"Tu planeta: {search_planet}, es de los más lejanos al Sol : ( \\n Aquí puedes ver la lista de los más lejanos: {planets_further_sun}\")"
   ]
  },
  {
   "cell_type": "code",
   "execution_count": null,
   "metadata": {},
   "outputs": [],
   "source": []
  }
 ],
 "metadata": {
  "interpreter": {
   "hash": "dec912fbc4a59e5b096ec5d71de4d8d32afcf371b8f24102337dc7b39d858b58"
  },
  "kernelspec": {
   "display_name": "Python 3.9.10 64-bit (windows store)",
   "language": "python",
   "name": "python3"
  },
  "language_info": {
   "codemirror_mode": {
    "name": "ipython",
    "version": 3
   },
   "file_extension": ".py",
   "mimetype": "text/x-python",
   "name": "python",
   "nbconvert_exporter": "python",
   "pygments_lexer": "ipython3",
   "version": "3.9.10"
  },
  "orig_nbformat": 4
 },
 "nbformat": 4,
 "nbformat_minor": 2
}
