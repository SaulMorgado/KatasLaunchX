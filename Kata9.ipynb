{
 "cells": [
  {
   "cell_type": "markdown",
   "metadata": {},
   "source": [
    "# Ejercicio: Uso de funciones en Python\n",
    "Ejercicio 1: Trabajar con argumentos en funciones\n",
    "\n",
    "Los argumentos requeridos en las funciones se utilizan cuando las funciones necesitan que esos argumentos funcionen correctamente. En este ejercicio, construirás un informe de combustible que requiere información de varias ubicaciones de combustible en todo el cohete.\n",
    "\n"
   ]
  },
  {
   "cell_type": "code",
   "execution_count": 45,
   "metadata": {},
   "outputs": [],
   "source": [
    "def gas_tank(tank_1, tank_2, tank_3):\n",
    "    print(f'Gas de tanques\\n Tanque 1: {tank_1}\\n Tanque 2: {tank_2}\\n Tanque 3: {tank_3}\\n Promedio: {promedio_tanques(tank_1,tank_2,tank_3)}')\n",
    "\n",
    "def promedio_tanques(tank_1, tank_2, tank_3):\n",
    "   return (tank_1 + tank_2 + tank_3)/3\n",
    "    "
   ]
  },
  {
   "cell_type": "code",
   "execution_count": 48,
   "metadata": {},
   "outputs": [
    {
     "name": "stdout",
     "output_type": "stream",
     "text": [
      "Gas de tanques\n",
      " Tanque 1: 10\n",
      " Tanque 2: 100\n",
      " Tanque 3: 1000\n",
      " Promedio: 370.0\n"
     ]
    }
   ],
   "source": [
    "gas_tank(10,100,1000)"
   ]
  },
  {
   "cell_type": "markdown",
   "metadata": {},
   "source": [
    "# Ejercicio 2: Trabajo con argumentos de palabra clave\n",
    "### Ejercicio : Trabajar con argumentos de palabras clave en funciones\n",
    "\n",
    "En este ejercicio, construirás un informe de cohete que requiere varias piezas de información, como el tiempo hasta el destino, el combustible a la izquierda y el nombre del destino. Comienza por crear una función que creará un informe preciso de la misión:"
   ]
  },
  {
   "cell_type": "code",
   "execution_count": 59,
   "metadata": {},
   "outputs": [],
   "source": [
    "# Función con un informe preciso de la misión. Considera hora de prelanzamiento, tiempo de vuelo, destino, tanque externo y tanque interno\n",
    "from datetime import timedelta, datetime\n",
    "\n",
    "def full_report (hours, destiny, exter_tank, intern_tank):\n",
    "    #Horario de prelanzamiento\n",
    "    liftoff_time = datetime.now()\n",
    "    #Tiempo de vuelo estimado \n",
    "    arrival = liftoff_time + timedelta(hours=hours)\n",
    "\n",
    "    return f\"\"\"Informe de Misión:\n",
    "    Hora de prelanzamiento: {arrival.strftime(f'%A %H:%M')}\n",
    "    Tiempo de vuelo: {hours} hrs\n",
    "    Destino: {destiny}\n",
    "    Tanque Externo: {exter_tank}% \n",
    "    Tanque Interno: {intern_tank}% \n",
    "    \"\"\"\n",
    "\n"
   ]
  },
  {
   "cell_type": "code",
   "execution_count": 60,
   "metadata": {},
   "outputs": [
    {
     "name": "stdout",
     "output_type": "stream",
     "text": [
      "Informe de Misión:\n",
      "    Hora de prelanzamiento: Thursday 08:01\n",
      "    Tiempo de vuelo: 10 hrs\n",
      "    Destino: Mars\n",
      "    Tanque Externo: 1000% \n",
      "    Tanque Interno: 500% \n",
      "    \n"
     ]
    }
   ],
   "source": [
    "print(full_report(10,'Mars',1000,500))"
   ]
  },
  {
   "cell_type": "markdown",
   "metadata": {},
   "source": [
    "La función es problemática porque no se puede adaptar para minutos adicionales o tanques adicionales de combustible. Hazlo más flexible permitiendo cualquier número de pasos basados en el tiempo y cualquier número de tanques. En lugar de usar *args y **kwargs, aprovecha el hecho de que puedes usar cualquier nombre que desees. Asegurate que la función sea más legible mediante el uso de nombres de variables que están asociados con las entradas, como *minutes y **fuel_reservoirs:\n",
    "\n"
   ]
  },
  {
   "cell_type": "code",
   "execution_count": 149,
   "metadata": {},
   "outputs": [
    {
     "name": "stdout",
     "output_type": "stream",
     "text": [
      "Tenemos 2 tanques de reserva, con las siguientes capacidades: \n",
      "Tanque_Externo ----> Capacidad: 1000%\n",
      "Tanque_Interno ----> Capacidad: 800%\n",
      "Prelanzamiento: Thursday 01:27\n",
      "Tiempo de vuelo: 1.0 hrs\n",
      "Destino: Mars\n",
      "    None\n"
     ]
    }
   ],
   "source": [
    "# Escribe tu nueva función de reporte considerando lo anterior\n",
    "#Función para la hora de prelanzamiento y tiempo de vuelo \n",
    "\n",
    "from datetime import timedelta, datetime\n",
    "\n",
    "def prelauch_time(*minutes):\n",
    "    #Horario de prelanzamiento\n",
    "    liftoff_time = datetime.now()\n",
    "    total_minutes = sum(minutes)/60\n",
    "    #Tiempo de vuelo estimado \n",
    "    arrival = liftoff_time + timedelta(hours= total_minutes)\n",
    "    return f\"\"\"Prelanzamiento: {arrival.strftime(f'%A %H:%M')}\\nTiempo de vuelo: {round(total_minutes,4)} hrs\"\"\"\n",
    "\n",
    "#Función que permite Usar diversos Tanques de reserva\n",
    "\n",
    "def gas_reservoirs(**fuel_reservoirs):\n",
    "    print(f'Tenemos {len(fuel_reservoirs)} tanques de reserva, con las siguientes capacidades: ')\n",
    "    \n",
    "    for number_tank, capacity in fuel_reservoirs.items():\n",
    "        print(f'{number_tank} ----> Capacidad: {capacity}%')\n",
    "  \n",
    "#Función principal \n",
    "\n",
    "def full_report (destiny, *minutes, **fuel_reservoirs ):\n",
    "  \n",
    "    out_message = f\"\"\"{prelauch_time(*minutes)}\\nDestino: {destiny}\n",
    "    {gas_reservoirs(**fuel_reservoirs)}\"\"\"\n",
    "    return out_message\n",
    "\n",
    "resultado = full_report('Mars',10,20,30, Tanque_Externo=1000, Tanque_Interno= 800)\n",
    "print(resultado)    \n"
   ]
  },
  {
   "cell_type": "code",
   "execution_count": null,
   "metadata": {},
   "outputs": [],
   "source": []
  }
 ],
 "metadata": {
  "interpreter": {
   "hash": "623424ba2808c0d378dcd2c53d4f548d1a60cbc6aeaef7d8b34001e856a3a6dc"
  },
  "kernelspec": {
   "display_name": "Python 3.9.10 64-bit (windows store)",
   "language": "python",
   "name": "python3"
  },
  "language_info": {
   "codemirror_mode": {
    "name": "ipython",
    "version": 3
   },
   "file_extension": ".py",
   "mimetype": "text/x-python",
   "name": "python",
   "nbconvert_exporter": "python",
   "pygments_lexer": "ipython3",
   "version": "3.9.10"
  },
  "orig_nbformat": 4
 },
 "nbformat": 4,
 "nbformat_minor": 2
}
