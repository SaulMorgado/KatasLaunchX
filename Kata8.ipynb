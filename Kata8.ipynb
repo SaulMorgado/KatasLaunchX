{
 "cells": [
  {
   "cell_type": "markdown",
   "metadata": {},
   "source": [
    "# Ejercicio 1: Creación de diccionarios de Python\n",
    "Ejercicio: Crear y modificar un diccionario de Python\n",
    "Los diccionarios python te permiten modelar datos más complejos. Los diccionarios son una colección de pares clave/valor, y son muy comunes en los programas Python. Su flexibilidad le permite trabajar dinámicamente con valores relacionados sin tener que crear clases u objetos.\n",
    "\n",
    "Un diccionario se indica en Python mediante el uso de llaves ({ }), con pares clave/valor separados por dos puntos (:). Las claves son literales de cadena y los valores pueden ser de cualquier tipo de datos.{ }:"
   ]
  },
  {
   "cell_type": "code",
   "execution_count": 1,
   "metadata": {},
   "outputs": [
    {
     "name": "stdout",
     "output_type": "stream",
     "text": [
      "El nombre del planeta es: Mars y tiene un total de: 69 lunas\n"
     ]
    }
   ],
   "source": [
    "# Creando un diccionario con información de marte \n",
    "planet = {\n",
    "    'name': 'Mars',\n",
    "    'moons': 69\n",
    "}\n",
    "print(f'El nombre del planeta es: {planet[\"name\"]} y tiene un total de: {planet[\"moons\"]} lunas')\n"
   ]
  },
  {
   "cell_type": "code",
   "execution_count": 12,
   "metadata": {},
   "outputs": [
    {
     "name": "stdout",
     "output_type": "stream",
     "text": [
      "El nombre del planeta es: Mars, tiene un total de: 69 lunas y tiene las siguientes circunferencias. Polar: 6752km\n"
     ]
    }
   ],
   "source": [
    "# Agregando un nuevo valor con clave a nuestro diccionario \n",
    "planet['circunferencia (km)'] = {\n",
    "    'polar': 6752,\n",
    "    'equatorial': 679\n",
    "} #impresión del planeta con su circunferencia polar\n",
    "print(f'El nombre del planeta es: {planet[\"name\"]}, tiene un total de: {planet[\"moons\"]} lunas y tiene las siguientes circunferencias. Polar: {planet[\"circunferencia (km)\"][\"polar\"]}km')"
   ]
  },
  {
   "cell_type": "markdown",
   "metadata": {},
   "source": [
    "# Ejercicio 2: Programación dinámica con diccionarios\n",
    "Ejercicio: Cálculo de valores\n",
    "\n",
    "En este escenario, calcularás tanto el número total de lunas en el sistema solar como el número promedio de lunas que tiene un planeta."
   ]
  },
  {
   "cell_type": "markdown",
   "metadata": {},
   "source": []
  },
  {
   "cell_type": "code",
   "execution_count": 26,
   "metadata": {},
   "outputs": [
    {
     "name": "stdout",
     "output_type": "stream",
     "text": [
      "El total de la suma de las lunas es de: 214\n",
      " El promedio de las lunas es de: 17.833333333333332\n"
     ]
    }
   ],
   "source": [
    "# Planets and moons\n",
    "\n",
    "planet_moons = {\n",
    "    'mercury': 0,\n",
    "    'venus': 0,\n",
    "    'earth': 1,\n",
    "    'mars': 2,\n",
    "    'jupiter': 79,\n",
    "    'saturn': 82,\n",
    "    'uranus': 27,\n",
    "    'neptune': 14,\n",
    "    'pluto': 5,\n",
    "    'haumea': 2,\n",
    "    'makemake': 1,\n",
    "    'eris': 1\n",
    "}\n",
    "moons = 0\n",
    "total_planets = len(planet_moons)\n",
    "#Realizamos la iteración para saber los valores de las lunas y posterior sumar cada una de ellas \n",
    "for moons_value in planet_moons.values():\n",
    "    moons = moons + moons_value\n",
    "\n",
    "print(f\"El total de la suma de las lunas es de: {moons}\\n El promedio de las lunas es de: {moons/total_planets}\")\n"
   ]
  },
  {
   "cell_type": "code",
   "execution_count": null,
   "metadata": {},
   "outputs": [],
   "source": []
  }
 ],
 "metadata": {
  "interpreter": {
   "hash": "dec912fbc4a59e5b096ec5d71de4d8d32afcf371b8f24102337dc7b39d858b58"
  },
  "kernelspec": {
   "display_name": "Python 3.9.10 64-bit (windows store)",
   "language": "python",
   "name": "python3"
  },
  "language_info": {
   "codemirror_mode": {
    "name": "ipython",
    "version": 3
   },
   "file_extension": ".py",
   "mimetype": "text/x-python",
   "name": "python",
   "nbconvert_exporter": "python",
   "pygments_lexer": "ipython3",
   "version": "3.9.10"
  },
  "orig_nbformat": 4
 },
 "nbformat": 4,
 "nbformat_minor": 2
}
