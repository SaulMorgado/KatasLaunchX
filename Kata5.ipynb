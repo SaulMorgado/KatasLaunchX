{
 "cells": [
  {
   "cell_type": "markdown",
   "metadata": {},
   "source": [
    "# Ejercicio 1 - Utilizar operadores aritméticos\n",
    "*  Medir distancia entre dos planetas y convertir los kilómetros en millas "
   ]
  },
  {
   "cell_type": "code",
   "execution_count": 6,
   "metadata": {},
   "outputs": [
    {
     "name": "stdout",
     "output_type": "stream",
     "text": [
      " La distancia entre los dos planteas es:  628949330 km\n",
      "La distancia en millas es:  390577533.93 miles\n"
     ]
    }
   ],
   "source": [
    "eart_distance = 149597870\n",
    "jupiter_distance =  778547200\n",
    "print(\" La distancia entre los dos planteas es: \", abs(eart_distance - jupiter_distance), \"km\")\n",
    "print(\"La distancia en millas es: \", abs(eart_distance - jupiter_distance)*0.621,  \"miles\")"
   ]
  },
  {
   "cell_type": "markdown",
   "metadata": {},
   "source": [
    "# Ejercicio 2: convierte cadenas en números y usa valores absolutos\n",
    "* Crear una aplicación para trabajar con números y entrada de usuario\n",
    "\n"
   ]
  },
  {
   "cell_type": "code",
   "execution_count": 17,
   "metadata": {},
   "outputs": [
    {
     "name": "stdout",
     "output_type": "stream",
     "text": [
      "La distancia entre el planeta Mercurio y el planeta Venus es de:  7589993100000001.0 miles\n"
     ]
    }
   ],
   "source": [
    "# Creamos la variables que permitirán leer las entradas de distancias de planetas \n",
    "first_planet =  input(\"Nombre del primer planeta: \")\n",
    "second_planet = input(\"Nombre del segundo planeta: \")\n",
    "first_planet_distance = int(input(f\"Ingresa la distancia del planeta a la distancia del sol de {first_planet}: \"))\n",
    "second_planet_distance = int(input(f\"Ingresa la distancia del planeta a la distancia del sol de {second_planet}: \"))\n",
    "# Realizamos el cálculo correspondiente para lograr imprimir las distancias \n",
    "print(f\"La distancia entre el planeta {first_planet} y el planeta {second_planet} es de: \", abs(first_planet_distance - second_planet_distance)*0.621,\"miles\")"
   ]
  },
  {
   "cell_type": "code",
   "execution_count": null,
   "metadata": {},
   "outputs": [],
   "source": []
  }
 ],
 "metadata": {
  "interpreter": {
   "hash": "dec912fbc4a59e5b096ec5d71de4d8d32afcf371b8f24102337dc7b39d858b58"
  },
  "kernelspec": {
   "display_name": "Python 3.9.10 64-bit (windows store)",
   "language": "python",
   "name": "python3"
  },
  "language_info": {
   "codemirror_mode": {
    "name": "ipython",
    "version": 3
   },
   "file_extension": ".py",
   "mimetype": "text/x-python",
   "name": "python",
   "nbconvert_exporter": "python",
   "pygments_lexer": "ipython3",
   "version": "3.9.10"
  },
  "orig_nbformat": 4
 },
 "nbformat": 4,
 "nbformat_minor": 2
}
