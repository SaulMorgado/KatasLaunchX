{
 "cells": [
  {
   "cell_type": "markdown",
   "metadata": {},
   "source": [
    "# Creando un paquete\n",
    "Utilizar entornos virtuales como una forma para no afectar a los paquetes instalados globalmente u otros programas que se ejecutan en tu máquina."
   ]
  },
  {
   "cell_type": "markdown",
   "metadata": {},
   "source": [
    " *Se crea un entorno virtual ejecutando python3 -m venv env*\n",
    "\n",
    " *Activando Entorno virtual* \n",
    " \n",
    "<img src=\"img/k2_stp_0.jpg\">"
   ]
  },
  {
   "cell_type": "markdown",
   "metadata": {},
   "source": []
  },
  {
   "cell_type": "markdown",
   "metadata": {},
   "source": [
    "# Instalando una biblioteca\n",
    "Ejecutando el comando pip freeze para ver las bibliotecas instaladas en el entorno\n",
    "\n",
    "No mostrará una respuesta hasta que una biblioteca sea agregada\n",
    "\n",
    "Se ejecuta el comando pip install para instalar una biblioteca y se visualiza un mensaje de instalación exitosa\n",
    "\n",
    "<img src=\"img/k2_stp_1.jpg\">\n"
   ]
  },
  {
   "cell_type": "markdown",
   "metadata": {},
   "source": [
    "Volviendo a hacer uso de pip freeze, logramos ver un cambio en la lista de nuestra biblioteca\n",
    "\n",
    "<img src=\"img/k2_stp_2.jpg\">"
   ]
  },
  {
   "cell_type": "markdown",
   "metadata": {},
   "source": []
  },
  {
   "cell_type": "markdown",
   "metadata": {},
   "source": [
    "# Desactivando entorno virtual\n",
    "Es posible que estemos trabajando en varios proyectos de Python y necesitemos cambiar entre ellos. Para hacer eso, debemos salir (desactivar) el entorno virtual\n",
    "\n",
    "Ejecutando comando *deactivate*\n",
    "\n",
    "Y todo listo! Hemos logrado crear y cerrar nuestro entorno virtual \n",
    "\n",
    "<img src=\"img/k2_stp_3.jpg\">"
   ]
  },
  {
   "cell_type": "markdown",
   "metadata": {},
   "source": []
  }
 ],
 "metadata": {
  "language_info": {
   "name": "python"
  },
  "orig_nbformat": 4
 },
 "nbformat": 4,
 "nbformat_minor": 2
}
